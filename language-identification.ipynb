{
 "cells": [
  {
   "cell_type": "markdown",
   "metadata": {},
   "source": [
    "# Language Identification\n",
    "\n",
    "[Language identification](https://en.wikipedia.org/wiki/Language_identification) is one of the most common feature of every Social Network or Web application, this is commonly paired with [Machine Translation](https://en.wikipedia.org/wiki/Machine_translation) to improve the user experience and content accesibility(a must have in the 2.0 society). The goal of the task  is to detect the natural language of a given piece of text. *What can you use it for?* This is a foundation for other features such as Machine Translation (as mentioned before) and post/tweets/articles and documents analysis.\n",
    "\n",
    "### Language identification of short pieces of text from Wikipedia\n",
    "\n",
    "In this notebook we will build a deep learning model able to [detect the languages from short piceces of text (140 characters, old Tweets lenght) with high accuracy using neural networks](http://machinelearningexp.com/deep-learning-language-identification-using-keras-tensorflow/). The task is commonly solved using hard-coded rules or NLP library, but we will attack the problem using Deep Learning. \n",
    "\n",
    "<img src=\"https://raw.githubusercontent.com/floydhub/language-identification-template/master/images/fhchat.png\" width=\"500\" height=\"500\" align=\"center\"/>\n",
    "\n",
    "*Made with [Sketch Group Chat](https://www.sketchappsources.com/free-source/1558-group-chat-sketch-freebie-resource.html)*\n",
    "\n",
    "We have [already gathered and extract the raw dataset](https://floydhub.com/floydhub/datasets/language-identification/1) from https://dumps.wikimedia.org for 7 languages: *Italian*, *Spanish* and *French* which are considered to be in Latin language group, *English* and *German* have also common roots. *Czech* and *Slovakian* are extremely similar and are considered to be one of major challenged in the language recognition.\n",
    "\n",
    "iso-code | language | example\n",
    "---------|----------|--------\n",
    "en | English | Hello world!\n",
    "fr | French | Bonjour tout le monde!\n",
    "es | Spanish | Hola mundo!\n",
    "it | Italian | Ciao mondo!\n",
    "de | German | Hallo welt!\n",
    "cz | Czech | Ahoj světe!\n",
    "sk | Slovakian | Dobrý deň svet!\n",
    "\n",
    "We will:\n",
    "\n",
    "- Preprocess text data for NLP\n",
    "- Build and train Deep Neural Network using Keras and Tensorflow\n",
    "- Evaluate our model on the test set\n",
    "- Run the model on your own text!\n",
    "\n",
    "\n",
    "### Instructions\n",
    "- To execute a code cell, click on the cell and press `Shift + Enter` (shortcut for Run).\n",
    "- To learn more about Workspaces, check out the [Getting Started Notebook](get_started_workspace.ipynb).\n",
    "- **Tip**: *Feel free to try this Notebook with your own data and on your own super awesome regression task.*\n",
    "\n",
    "Now, let's get started! 🚀"
   ]
  },
  {
   "cell_type": "markdown",
   "metadata": {},
   "source": [
    "## Initial Setup\n",
    "Let's start by importing some packages."
   ]
  },
  {
   "cell_type": "code",
   "execution_count": 1,
   "metadata": {},
   "outputs": [
    {
     "name": "stderr",
     "output_type": "stream",
     "text": [
      "Using TensorFlow backend.\n"
     ]
    }
   ],
   "source": [
    "import os\n",
    "import random\n",
    "import numpy as np\n",
    "import tensorflow as tf\n",
    "import time\n",
    "\n",
    "from sklearn import preprocessing\n",
    "from sklearn.metrics import classification_report\n",
    "from sklearn.model_selection import train_test_split\n",
    "\n",
    "import keras\n",
    "from keras.models import Sequential\n",
    "from keras.layers import Dense\n",
    "from keras.layers import Dropout\n",
    "import keras.optimizers"
   ]
  },
  {
   "cell_type": "markdown",
   "metadata": {},
   "source": [
    "## Training Parameters\n",
    "\n",
    "We'll set the hyperparameters for training our model. If you understand what they mean, feel free to play around - otherwise, we recommend keeping the defaults for your first run 🙂"
   ]
  },
  {
   "cell_type": "code",
   "execution_count": 2,
   "metadata": {},
   "outputs": [],
   "source": [
    "# Hyperparams if GPU is available\n",
    "if tf.test.is_gpu_available():\n",
    "    # GPU\n",
    "    BATCH_SIZE = 512  # Number of images used in each iteration\n",
    "    EPOCHS = 12  # Number of passes through entire dataset\n",
    "    \n",
    "# Hyperparams for CPU training\n",
    "else:\n",
    "    # CPU\n",
    "    BATCH_SIZE = 64\n",
    "    EPOCHS = 12"
   ]
  },
  {
   "cell_type": "markdown",
   "metadata": {},
   "source": [
    "## Data preparation"
   ]
  },
  {
   "cell_type": "code",
   "execution_count": 3,
   "metadata": {},
   "outputs": [
    {
     "name": "stdout",
     "output_type": "stream",
     "text": [
      "ALPHABET:\n",
      "abcdefghijklmnopqrstuvwxyzßàáâäæçèéêìíîïñòóôöùúûüýÿčďěĺľňœŕřšťůž !?¿¡ABCDEFGHIJKLMNOPQRSTUVWXYZÀÁÂÄÆÇÈÉÊÌÍÎÏÑÒÓÔÖÙÚÛÜÝČĎĚĹĽŇŒŔŘŠŤŮŸŽ\n",
      "ALPHABET LEN(VOCAB SIZE): 132\n"
     ]
    }
   ],
   "source": [
    "#################\n",
    "# Configuration #\n",
    "#################\n",
    "\n",
    "# dictionary of languages that our classifier will cover\n",
    "LANGUAGES_DICT = {'en':0,'fr':1,'es':2,'it':3,'de':4,'sk':5,'cs':6}\n",
    "\n",
    "# Length of cleaned text used for training and prediction - 140 chars\n",
    "MAX_LEN = 140\n",
    "\n",
    "# number of language samples per language that we will extract from source files\n",
    "NUM_SAMPLES = 250000\n",
    "\n",
    "# For reproducibility\n",
    "SEED = 42\n",
    "\n",
    "from support import define_alphabet\n",
    "# Load the Alphabet\n",
    "alphabet = define_alphabet()\n",
    "print('ALPHABET:')\n",
    "print(alphabet[2])\n",
    "\n",
    "VOCAB_SIZE = len(alphabet[2])\n",
    "print('ALPHABET LEN(VOCAB SIZE):', VOCAB_SIZE)\n",
    "\n",
    "# Folders from where load / store the raw, source, cleaned, samples and train_test data\n",
    "data_directory = \"/floyd/input/languageidentification/data\"\n",
    "source_directory = os.path.join(data_directory, 'source')\n",
    "cleaned_directory = os.path.join(data_directory, 'cleaned')\n",
    "samples_directory = os.path.join('/tmp', 'samples')\n",
    "train_test_directory = os.path.join('/tmp', 'train_test')"
   ]
  },
  {
   "cell_type": "markdown",
   "metadata": {},
   "source": [
    "Before feeding the data into the model, we have to preprocess the text.\n",
    "\n",
    "We will use the characters frequency as features to our model. This representation is similar to the [Bag of Words](https://en.wikipedia.org/wiki/Bag-of-words_model) model, with the exception that we are using characters and not words for defining the Vocabulary. You can see an example below:"
   ]
  },
  {
   "cell_type": "code",
   "execution_count": 4,
   "metadata": {},
   "outputs": [
    {
     "name": "stdout",
     "output_type": "stream",
     "text": [
      "1. SAMPLE TEXT: \n",
      " christliche Mystiker Jakob Lorber versuchte in dem Buch \"Von der Hölle zum Himmel (Robert Blum)\" eine Ausdeutung der seelisch-geistigen\n",
      "\n",
      "2. REFERENCE ALPHABET: \n",
      " ['a', 'b', 'c', 'd', 'e', 'f', 'g', 'h', 'i', 'j', 'k', 'l', 'm', 'n', 'o', 'p', 'q', 'r', 's', 't', 'u', 'v', 'w', 'x', 'y', 'z', 'ß', 'à', 'á', 'â', 'ä', 'æ', 'ç', 'è', 'é', 'ê', 'ì', 'í', 'î', 'ï', 'ñ', 'ò', 'ó', 'ô', 'ö', 'ù', 'ú', 'û', 'ü', 'ý', 'ÿ', 'č', 'ď', 'ě', 'ĺ', 'ľ', 'ň', 'œ', 'ŕ', 'ř', 'š', 'ť', 'ů', 'ž', ' ', '!', '?', '¿', '¡', 'A', 'B', 'C', 'D', 'E', 'F', 'G', 'H', 'I', 'J', 'K', 'L', 'M', 'N', 'O', 'P', 'Q', 'R', 'S', 'T', 'U', 'V', 'W', 'X', 'Y', 'Z', 'À', 'Á', 'Â', 'Ä', 'Æ', 'Ç', 'È', 'É', 'Ê', 'Ì', 'Í', 'Î', 'Ï', 'Ñ', 'Ò', 'Ó', 'Ô', 'Ö', 'Ù', 'Ú', 'Û', 'Ü', 'Ý', 'Č', 'Ď', 'Ě', 'Ĺ', 'Ľ', 'Ň', 'Œ', 'Ŕ', 'Ř', 'Š', 'Ť', 'Ů', 'Ÿ', 'Ž']\n",
      "\n",
      "3. SAMPLE INPUT ROW: \n",
      " [2, 5, 5, 4, 18, 0, 3, 7, 9, 1, 2, 7, 6, 5, 4, 0, 0, 9, 7, 6, 7, 2, 0, 0, 1, 1, 0, 0, 0, 0, 0, 0, 0, 0, 0, 0, 0, 0, 0, 0, 0, 0, 0, 0, 1, 0, 0, 0, 0, 0, 0, 0, 0, 0, 0, 0, 0, 0, 0, 0, 0, 0, 0, 0, 18, 0, 0, 0, 0, 1, 2, 0, 0, 0, 0, 0, 2, 0, 1, 0, 1, 1, 0, 0, 0, 0, 1, 0, 0, 0, 1, 0, 0, 0, 0, 0, 0, 0, 0, 0, 0, 0, 0, 0, 0, 0, 0, 0, 0, 0, 0, 0, 0, 0, 0, 0, 0, 0, 0, 0, 0, 0, 0, 0, 0, 0, 0, 0, 0, 0, 0, 0]\n",
      "\n",
      "4. INPUT SIZE (VOCAB SIZE):  132\n"
     ]
    }
   ],
   "source": [
    "from support import get_sample_text, get_input_row\n",
    "    \n",
    "# let's see if our processing is returning counts\n",
    "# last part calculates also input_size for DNN so this code must be run before DNN is trained\n",
    "path = os.path.join(cleaned_directory, \"de_cleaned.txt\")\n",
    "with open(path, 'r') as f:\n",
    "    content = f.read()\n",
    "    random_index = random.randrange(0,len(content)-2*MAX_LEN)\n",
    "    sample_text = get_sample_text(content,random_index,MAX_LEN)\n",
    "    print (\"1. SAMPLE TEXT: \\n\", sample_text)\n",
    "    print (\"\\n2. REFERENCE ALPHABET: \\n\", alphabet[0]+alphabet[1])\n",
    "    \n",
    "    sample_input_row = get_input_row(content, random_index, MAX_LEN, alphabet)\n",
    "    print (\"\\n3. SAMPLE INPUT ROW: \\n\",sample_input_row)\n",
    "    \n",
    "    input_size = len(sample_input_row)\n",
    "    if input_size != VOCAB_SIZE:\n",
    "        print(\"Something strange happened!\")\n",
    "        \n",
    "    print (\"\\n4. INPUT SIZE (VOCAB SIZE): \", input_size)\n",
    "    del content"
   ]
  },
  {
   "cell_type": "markdown",
   "metadata": {},
   "source": [
    "Now we will apply the transformation from raw text to Bag of Characters representation for all the data we have collected. At the end of the proprocessing, we will have 250k samples per language where every sample will be piece of text 140 characters long, represented using the Bag of Characters model.\n",
    "\n",
    "Dataset dimension (1750k, 133):\n",
    "- rows: 1750k (250k * 7) or (NUM_SAMPLES * num_languages)\n",
    "- columns: 133 (132 + 1) or (VOCAB_SIZE + language_index)"
   ]
  },
  {
   "cell_type": "code",
   "execution_count": 5,
   "metadata": {},
   "outputs": [
    {
     "name": "stdout",
     "output_type": "stream",
     "text": [
      "Processing file : /floyd/data/languageidentification/data/cleaned/en_cleaned.txt\n",
      "File size :  101.42 MB  | # possible samples :  768340 | # skip chars : 199\n",
      "----------------------------------------------------------------------------------------------------\n",
      "Processing file : /floyd/data/languageidentification/data/cleaned/fr_cleaned.txt\n",
      "File size :  98.72 MB  | # possible samples :  747899 | # skip chars : 191\n",
      "----------------------------------------------------------------------------------------------------\n",
      "Processing file : /floyd/data/languageidentification/data/cleaned/es_cleaned.txt\n",
      "File size :  97.56 MB  | # possible samples :  739111 | # skip chars : 187\n",
      "----------------------------------------------------------------------------------------------------\n",
      "Processing file : /floyd/data/languageidentification/data/cleaned/it_cleaned.txt\n",
      "File size :  101.89 MB  | # possible samples :  771891 | # skip chars : 200\n",
      "----------------------------------------------------------------------------------------------------\n",
      "Processing file : /floyd/data/languageidentification/data/cleaned/de_cleaned.txt\n",
      "File size :  101.22 MB  | # possible samples :  766797 | # skip chars : 198\n",
      "----------------------------------------------------------------------------------------------------\n",
      "Processing file : /floyd/data/languageidentification/data/cleaned/sk_cleaned.txt\n",
      "File size :  85.65 MB  | # possible samples :  648847 | # skip chars : 151\n",
      "----------------------------------------------------------------------------------------------------\n",
      "Processing file : /floyd/data/languageidentification/data/cleaned/cs_cleaned.txt\n",
      "File size :  90.56 MB  | # possible samples :  686098 | # skip chars : 166\n",
      "----------------------------------------------------------------------------------------------------\n",
      "Vocab Size :  132\n",
      "----------------------------------------------------------------------------------------------------\n",
      "Samples array size :  (1750000, 133)\n",
      "/tmp/samples/lang_samples_132.npz size :  57.21 MB\n"
     ]
    }
   ],
   "source": [
    "# Utility function to return file Bytes size in MB\n",
    "def size_mb(size):\n",
    "    size_mb =  '{:.2f}'.format(size/(1000*1000.0))\n",
    "    return size_mb + \" MB\"\n",
    "\n",
    "# Now we have preprocessing utility functions ready. Let's use them to process each cleaned language file\n",
    "# and turn text data into numerical data samples for our neural network\n",
    "# prepare numpy array\n",
    "sample_data = np.empty((NUM_SAMPLES*len(LANGUAGES_DICT),input_size+1),dtype = np.uint16)\n",
    "lang_seq = 0 # offset for each language data\n",
    "jump_reduce = 0.2 # part of characters removed from jump to avoid passing the end of file\n",
    "\n",
    "for lang_code in LANGUAGES_DICT:\n",
    "    start_index = 0\n",
    "    path = os.path.join(cleaned_directory, lang_code+\"_cleaned.txt\")\n",
    "    with open(path, 'r') as f:\n",
    "        print (\"Processing file : \" + path)\n",
    "        file_content = f.read()\n",
    "        content_length = len(file_content)\n",
    "        remaining = content_length - MAX_LEN*NUM_SAMPLES\n",
    "        jump = int(((remaining/NUM_SAMPLES)*3)/4)\n",
    "        print (\"File size : \",size_mb(content_length),\\\n",
    "               \" | # possible samples : \",int(content_length/VOCAB_SIZE),\\\n",
    "              \"| # skip chars : \" + str(jump))\n",
    "        for idx in range(NUM_SAMPLES):\n",
    "            input_row = get_input_row(file_content, start_index, MAX_LEN, alphabet)\n",
    "            sample_data[NUM_SAMPLES*lang_seq+idx,] = input_row + [LANGUAGES_DICT[lang_code]]\n",
    "            start_index += MAX_LEN + jump\n",
    "        del file_content\n",
    "    lang_seq += 1\n",
    "    print (100*\"-\")\n",
    "     \n",
    "# Let's randomy shuffle the data\n",
    "np.random.shuffle(sample_data)\n",
    "# reference input size\n",
    "print (\"Vocab Size : \",VOCAB_SIZE )\n",
    "print (100*\"-\")\n",
    "print (\"Samples array size : \",sample_data.shape )\n",
    "\n",
    "# Create the the sample dirctory if not exists\n",
    "if not os.path.exists(samples_directory):\n",
    "    os.makedirs(samples_directory)\n",
    "\n",
    "# Save compressed sample data to disk\n",
    "path_smpl = os.path.join(samples_directory,\"lang_samples_\"+str(VOCAB_SIZE)+\".npz\")\n",
    "np.savez_compressed(path_smpl,data=sample_data)\n",
    "print(path_smpl, \"size : \", size_mb(os.path.getsize(path_smpl)))\n",
    "del sample_data"
   ]
  },
  {
   "cell_type": "markdown",
   "metadata": {},
   "source": [
    "Sanity check."
   ]
  },
  {
   "cell_type": "code",
   "execution_count": 6,
   "metadata": {},
   "outputs": [
    {
     "name": "stdout",
     "output_type": "stream",
     "text": [
      "Sample record : \n",
      " [ 6  2  4  2 18  1  2  5  7  0  0  1  4  7  6  4  0  8 12 15  3  0  0  0\n",
      "  3  0  0  0  0  0  0  0  0  0  0  0  0  0  0  0  0  0  0  0  0  0  0  0\n",
      "  0  0  0  0  0  0  0  0  0  0  0  0  0  0  0  0 21  0  0  0  0  0  0  0\n",
      "  0  1  0  0  1  1  0  0  0  0  1  1  3  0  0  1  3  0  0  0  0  0  0  0\n",
      "  0  0  0  0  0  0  0  0  0  0  0  0  0  0  0  0  0  0  0  0  0  0  0  0\n",
      "  0  0  0  0  0  0  0  0  0  0  0  0  0]\n",
      "\n",
      "Sample language :  en\n",
      "\n",
      "Dataset shape (Total_samples, Alphabet): (1750000, 133)\n",
      "Language bins count (samples per language): \n",
      "en 250000\n",
      "fr 250000\n",
      "es 250000\n",
      "it 250000\n",
      "de 250000\n",
      "sk 250000\n",
      "cs 250000\n"
     ]
    }
   ],
   "source": [
    "# utility function to turn language id into language code\n",
    "def decode_langid(langid):    \n",
    "    for dname, did in LANGUAGES_DICT.items():\n",
    "        if did == langid:\n",
    "            return dname\n",
    "\n",
    "# Loading the data\n",
    "path_smpl = os.path.join(samples_directory,\"lang_samples_\"+str(VOCAB_SIZE)+\".npz\")\n",
    "dt = np.load(path_smpl)['data']\n",
    "\n",
    "# Sanity chech on a random sample\n",
    "random_index = random.randrange(0,dt.shape[0])\n",
    "print (\"Sample record : \\n\",dt[random_index,])\n",
    "print (\"\\nSample language : \",decode_langid(dt[random_index,][VOCAB_SIZE]))\n",
    "\n",
    "# Check if the data have equal share of different languages\n",
    "print (\"\\nDataset shape (Total_samples, Alphabet):\", dt.shape)\n",
    "bins = np.bincount(dt[:,input_size])\n",
    "\n",
    "print (\"Language bins count (samples per language): \") \n",
    "for lang_code in LANGUAGES_DICT: \n",
    "    print (lang_code, bins[LANGUAGES_DICT[lang_code]])"
   ]
  },
  {
   "cell_type": "markdown",
   "metadata": {},
   "source": [
    "### Data preprocessing\n",
    "\n",
    "Even if our data is ready for the training, we have to [Standardize](https://en.wikipedia.org/wiki/Feature_scaling#Standardization) the dataset. This will help our model to converge faster since it makes the data more \"computational friendly\"."
   ]
  },
  {
   "cell_type": "code",
   "execution_count": 7,
   "metadata": {},
   "outputs": [
    {
     "name": "stdout",
     "output_type": "stream",
     "text": [
      "Example data before processing:\n",
      "X : \n",
      " [11.  0.  2.  5. 12.  0.  5.  0. 18.  0.  0.  4.  2. 10. 12.  5.  0.  8.\n",
      "  3.  9.  5.  2.  0.  0.  0.  1.  0.  0.  0.  0.  0.  0.  0.  0.  0.  0.\n",
      "  1.  0.  0.  0.  0.  0.  0.  0.  0.  0.  0.  0.  0.  0.  0.  0.  0.  0.\n",
      "  0.  0.  0.  0.  0.  0.  0.  0.  0.  0. 20.  0.  0.  0.  0.  0.  0.  0.\n",
      "  0.  0.  0.  0.  0.  1.  0.  0.  0.  0.  0.  0.  0.  0.  0.  0.  0.  1.\n",
      "  0.  0.  0.  0.  0.  0.  0.  0.  0.  0.  0.  0.  0.  0.  0.  0.  0.  0.\n",
      "  0.  0.  0.  0.  0.  0.  0.  0.  0.  0.  0.  0.  0.  0.  0.  0.  0.  0.\n",
      "  0.  0.  0.  0.  0.  0.]\n",
      "Y : \n",
      " 3.0\n",
      "X preprocessed shape : (1750000, 132)\n",
      "\n",
      "Example data after processing:\n",
      "X : \n",
      " [ 3.92923415e-01 -1.13271844e+00 -7.85501182e-01  1.75331578e-01\n",
      " -2.19078094e-01 -9.23694849e-01  2.06024647e+00 -1.08479309e+00\n",
      "  2.82420397e+00 -6.19035125e-01 -7.30101824e-01 -5.71703672e-01\n",
      " -5.64598680e-01  6.60078764e-01  1.15494311e+00  1.25628042e+00\n",
      " -4.61307198e-01  4.27269459e-01 -1.19371057e+00  8.03682745e-01\n",
      "  4.90020603e-01 -1.54281214e-01 -5.20741165e-01 -3.63415211e-01\n",
      " -7.82152772e-01 -5.32049872e-02 -1.45346045e-01 -2.73464262e-01\n",
      " -5.23188531e-01 -8.40813890e-02 -2.57708967e-01 -1.61323864e-02\n",
      " -9.63149816e-02 -2.67628133e-01 -5.72862029e-01 -1.24849260e-01\n",
      "  1.06277838e+01 -4.83961970e-01 -7.90847838e-02 -4.38545570e-02\n",
      " -1.56154469e-01 -1.38132349e-01 -3.22717667e-01 -1.61242247e-01\n",
      " -1.93663701e-01 -1.26287624e-01 -3.17248523e-01 -4.67006713e-02\n",
      " -2.45033622e-01 -3.99007410e-01 -6.17011404e-03 -3.92629176e-01\n",
      " -1.21238753e-01 -3.00593555e-01 -4.27029766e-02 -2.16794744e-01\n",
      " -1.39087558e-01 -5.39887734e-02 -2.65946668e-02 -2.88258106e-01\n",
      " -3.61451477e-01 -1.90863401e-01 -2.18433082e-01 -3.85120392e-01\n",
      " -1.47960350e-01 -3.31697948e-02 -3.66679430e-02 -1.20478608e-02\n",
      " -9.79927648e-03 -4.94080663e-01 -4.30912703e-01 -4.42079514e-01\n",
      " -4.23935264e-01 -4.10982549e-01 -3.52503151e-01 -3.54383767e-01\n",
      " -3.37535411e-01  1.29601002e+00 -3.15180659e-01 -3.17877710e-01\n",
      " -4.55490917e-01 -4.60253984e-01 -3.92131627e-01 -3.03505987e-01\n",
      " -4.86188859e-01 -1.12906590e-01 -3.66969109e-01 -5.44448555e-01\n",
      " -4.18739587e-01  2.98367500e+00 -3.80123883e-01 -2.62820959e-01\n",
      " -9.93070006e-02 -1.18514776e-01 -2.20932096e-01 -5.71696088e-02\n",
      " -4.62424755e-02 -1.81627292e-02 -3.68495323e-02 -6.64461032e-03\n",
      " -8.24078172e-03 -4.20710109e-02 -8.09802860e-02 -2.85832444e-03\n",
      " -7.55929213e-04 -2.11150888e-02 -2.74086781e-02 -1.60357135e-03\n",
      " -6.56591030e-03 -2.61863181e-03 -1.99632291e-02 -4.02917899e-03\n",
      " -4.37371247e-02 -1.51186134e-03 -5.64606674e-02  0.00000000e+00\n",
      " -5.21055125e-02 -5.66610694e-03 -1.08197145e-01 -2.99860928e-02\n",
      " -2.85716611e-03 -1.06904621e-03 -2.65672915e-02 -4.56597796e-03\n",
      " -6.93866005e-03 -1.01418572e-03 -4.24018539e-02 -8.98538530e-02\n",
      " -1.53618418e-02 -1.76383962e-03  0.00000000e+00 -7.48925507e-02]\n",
      "Y : \n",
      " [0. 0. 0. 1. 0. 0. 0.]\n",
      "/tmp/train_test/train_test_data_132.npz size :  94.85 MB\n"
     ]
    }
   ],
   "source": [
    "# we need to preprocess data for DNN yet again - scale it \n",
    "# scaling will ensure that our optimization algorithm (variation of gradient descent) will converge well\n",
    "# we need also ensure one-hot econding of target classes for softmax output layer\n",
    "# let's convert datatype before processing to float\n",
    "dt = dt.astype(np.float32)\n",
    "# X and Y split\n",
    "X = dt[:, 0:input_size] # Samples\n",
    "Y = dt[:, input_size] # The last element is the label\n",
    "del dt\n",
    "\n",
    "# Random index to check random sample\n",
    "random_index = random.randrange(0,X.shape[0])\n",
    "print(\"Example data before processing:\")\n",
    "print(\"X : \\n\", X[random_index,])\n",
    "print(\"Y : \\n\", Y[random_index])\n",
    "time.sleep(120) # Sleep time to allow release memory. This step is very memory consuming\n",
    "\n",
    "# X PREPROCESSING\n",
    "# Feature Standardization - Standar scaler will be useful later during DNN prediction\n",
    "standard_scaler = preprocessing.StandardScaler().fit(X)\n",
    "X = standard_scaler.transform(X)   \n",
    "print (\"X preprocessed shape :\", X.shape)\n",
    "\n",
    "# Y PREPROCESSINGY \n",
    "# One-hot encoding\n",
    "Y = keras.utils.to_categorical(Y, num_classes=len(LANGUAGES_DICT))\n",
    "\n",
    "# See the sample data\n",
    "print(\"\\nExample data after processing:\")\n",
    "print(\"X : \\n\", X[random_index,])\n",
    "print(\"Y : \\n\", Y[random_index])\n",
    "\n",
    "# Train/test split. Static seed to have comparable results for different runs\n",
    "X_train, X_test, Y_train, Y_test = train_test_split(X, Y, test_size=0.20, random_state=SEED)\n",
    "del X, Y\n",
    "\n",
    "# Wait for memory release again\n",
    "time.sleep(120)\n",
    "\n",
    "# Create the train / test directory if not extists\n",
    "if not os.path.exists(train_test_directory):\n",
    "    os.makedirs(train_test_directory)\n",
    "\n",
    "# Save compressed train_test data to disk\n",
    "path_tt = os.path.join(train_test_directory,\"train_test_data_\"+str(VOCAB_SIZE)+\".npz\")\n",
    "np.savez_compressed(path_tt,X_train=X_train,Y_train=Y_train,X_test=X_test,Y_test=Y_test)\n",
    "print(path_tt, \"size : \",size_mb(os.path.getsize(path_tt)))\n",
    "del X_train,Y_train,X_test,Y_test"
   ]
  },
  {
   "cell_type": "markdown",
   "metadata": {},
   "source": [
    "## Train - Test Split\n",
    "\n",
    "Split: 80% for Train and 20% for Test"
   ]
  },
  {
   "cell_type": "code",
   "execution_count": 8,
   "metadata": {},
   "outputs": [
    {
     "name": "stdout",
     "output_type": "stream",
     "text": [
      "X_train:  (1400000, 132)\n",
      "Y_train:  (1400000, 7)\n",
      "X_test:  (350000, 132)\n",
      "Y_test:  (350000, 7)\n"
     ]
    }
   ],
   "source": [
    "# Load train data first from file\n",
    "path_tt = os.path.join(train_test_directory, \"train_test_data_\"+str(VOCAB_SIZE)+\".npz\")\n",
    "train_test_data = np.load(path_tt)\n",
    "\n",
    "# Train Set\n",
    "X_train = train_test_data['X_train']\n",
    "print (\"X_train: \",X_train.shape)\n",
    "Y_train = train_test_data['Y_train']\n",
    "print (\"Y_train: \",Y_train.shape)\n",
    "\n",
    "# Test Set\n",
    "X_test = train_test_data['X_test']\n",
    "print (\"X_test: \",X_test.shape)\n",
    "Y_test = train_test_data['Y_test']\n",
    "print (\"Y_test: \",Y_test.shape)\n",
    "\n",
    "del train_test_data"
   ]
  },
  {
   "cell_type": "markdown",
   "metadata": {},
   "source": [
    "### Model\n",
    "\n",
    "We will implement a really simple 3 layers Neural Network with [Droput](https://www.cs.toronto.edu/~hinton/absps/JMLRdropout.pdf) for preventing Overfitting. We will also use the [Xavier initializer](https://www.quora.com/What-is-an-intuitive-explanation-of-the-Xavier-Initialization-for-Deep-Neural-Networks)(one of the best initialization scheme, this will improve the chance to converge in a better \"place\": a point with better accuracy).\n",
    "\n",
    "![nn](http://neuralnetworksanddeeplearning.com/images/tikz40.png)\n",
    "\n",
    "*From http://neuralnetworksanddeeplearning.com/*"
   ]
  },
  {
   "cell_type": "code",
   "execution_count": 9,
   "metadata": {},
   "outputs": [
    {
     "name": "stdout",
     "output_type": "stream",
     "text": [
      "_________________________________________________________________\n",
      "Layer (type)                 Output Shape              Param #   \n",
      "=================================================================\n",
      "dense_1 (Dense)              (None, 500)               66500     \n",
      "_________________________________________________________________\n",
      "dropout_1 (Dropout)          (None, 500)               0         \n",
      "_________________________________________________________________\n",
      "dense_2 (Dense)              (None, 300)               150300    \n",
      "_________________________________________________________________\n",
      "dropout_2 (Dropout)          (None, 300)               0         \n",
      "_________________________________________________________________\n",
      "dense_3 (Dense)              (None, 100)               30100     \n",
      "_________________________________________________________________\n",
      "dropout_3 (Dropout)          (None, 100)               0         \n",
      "_________________________________________________________________\n",
      "dense_4 (Dense)              (None, 7)                 707       \n",
      "=================================================================\n",
      "Total params: 247,607\n",
      "Trainable params: 247,607\n",
      "Non-trainable params: 0\n",
      "_________________________________________________________________\n"
     ]
    }
   ],
   "source": [
    "model = Sequential()\n",
    "# Note: glorot_uniform is the Xavier uniform initializer.\n",
    "\n",
    "model.add(Dense(500,input_dim=input_size, kernel_initializer=\"glorot_uniform\", activation=\"sigmoid\"))\n",
    "model.add(Dropout(0.5))\n",
    "model.add(Dense(300, kernel_initializer=\"glorot_uniform\", activation=\"sigmoid\"))\n",
    "model.add(Dropout(0.5))\n",
    "model.add(Dense(100, kernel_initializer=\"glorot_uniform\", activation=\"sigmoid\"))\n",
    "model.add(Dropout(0.5))\n",
    "model.add(Dense(len(LANGUAGES_DICT), kernel_initializer=\"glorot_uniform\", activation=\"softmax\"))\n",
    "model_optimizer = keras.optimizers.Adam(lr=0.001, beta_1=0.9, beta_2=0.999, epsilon=1e-08, decay=0.0)\n",
    "model.compile(loss='categorical_crossentropy',\n",
    "              optimizer=model_optimizer,\n",
    "              metrics=['accuracy'])\n",
    "\n",
    "model.summary()"
   ]
  },
  {
   "cell_type": "markdown",
   "metadata": {},
   "source": [
    "### Train & Evaluate\n",
    "\n",
    "If you left the default hyperpameters in the Notebook untouched, your training should take approximately:\n",
    "\n",
    "- On CPU machine: 24 minutes for 12 epochs.\n",
    "- On GPU machine: 3 minute for 12 epochs."
   ]
  },
  {
   "cell_type": "code",
   "execution_count": 10,
   "metadata": {},
   "outputs": [
    {
     "name": "stdout",
     "output_type": "stream",
     "text": [
      "WARNING:tensorflow:From /usr/local/lib/python3.6/site-packages/tensorflow/contrib/learn/python/learn/datasets/base.py:198: retry (from tensorflow.contrib.learn.python.learn.datasets.base) is deprecated and will be removed in a future version.\n",
      "Instructions for updating:\n",
      "Use the retry module or similar alternatives.\n",
      "Train on 1260000 samples, validate on 140000 samples\n",
      "Epoch 1/12\n",
      "1260000/1260000 [==============================] - 28s 22us/step - loss: 0.1995 - acc: 0.9359 - val_loss: 0.0862 - val_acc: 0.9719\n",
      "Epoch 2/12\n",
      "1260000/1260000 [==============================] - 15s 12us/step - loss: 0.1056 - acc: 0.9681 - val_loss: 0.0837 - val_acc: 0.9726\n",
      "Epoch 3/12\n",
      "1260000/1260000 [==============================] - 14s 11us/step - loss: 0.0991 - acc: 0.9699 - val_loss: 0.0804 - val_acc: 0.9737\n",
      "Epoch 4/12\n",
      "1260000/1260000 [==============================] - 15s 12us/step - loss: 0.0951 - acc: 0.9708 - val_loss: 0.0788 - val_acc: 0.9744\n",
      "Epoch 5/12\n",
      "1260000/1260000 [==============================] - 15s 12us/step - loss: 0.0928 - acc: 0.9715 - val_loss: 0.0780 - val_acc: 0.9746\n",
      "Epoch 6/12\n",
      "1260000/1260000 [==============================] - 15s 12us/step - loss: 0.0907 - acc: 0.9721 - val_loss: 0.0769 - val_acc: 0.9747\n",
      "Epoch 7/12\n",
      "1260000/1260000 [==============================] - 15s 12us/step - loss: 0.0890 - acc: 0.9726 - val_loss: 0.0762 - val_acc: 0.9747\n",
      "Epoch 8/12\n",
      "1260000/1260000 [==============================] - 14s 11us/step - loss: 0.0875 - acc: 0.9729 - val_loss: 0.0749 - val_acc: 0.9753\n",
      "Epoch 9/12\n",
      "1260000/1260000 [==============================] - 14s 11us/step - loss: 0.0865 - acc: 0.9733 - val_loss: 0.0747 - val_acc: 0.9753\n",
      "Epoch 10/12\n",
      "1260000/1260000 [==============================] - 15s 12us/step - loss: 0.0855 - acc: 0.9736 - val_loss: 0.0742 - val_acc: 0.9757\n",
      "Epoch 11/12\n",
      "1260000/1260000 [==============================] - 15s 12us/step - loss: 0.0847 - acc: 0.9737 - val_loss: 0.0739 - val_acc: 0.9757\n",
      "Epoch 12/12\n",
      "1260000/1260000 [==============================] - 15s 12us/step - loss: 0.0837 - acc: 0.9741 - val_loss: 0.0730 - val_acc: 0.9759\n"
     ]
    }
   ],
   "source": [
    "from keras.callbacks import TensorBoard\n",
    "\n",
    "# Tensorboard\n",
    "tensorboard = TensorBoard(log_dir=\"run\")\n",
    "\n",
    "# let's fit the data\n",
    "# history variable will help us to plot results later\n",
    "history = model.fit(X_train,Y_train,\n",
    "                  epochs=EPOCHS,\n",
    "                  validation_split=0.1,\n",
    "                  batch_size=BATCH_SIZE,\n",
    "                  callbacks=[tensorboard],\n",
    "                  shuffle=True)"
   ]
  },
  {
   "cell_type": "code",
   "execution_count": 11,
   "metadata": {},
   "outputs": [
    {
     "name": "stdout",
     "output_type": "stream",
     "text": [
      "350000/350000 [==============================] - 15s 44us/step\n",
      "acc: 97.61%\n"
     ]
    }
   ],
   "source": [
    "# Evaluation on Test set\n",
    "scores = model.evaluate(X_test, Y_test, verbose=1)\n",
    "print(\"%s: %.2f%%\" % (model.metrics_names[1], scores[1]*100))"
   ]
  },
  {
   "cell_type": "code",
   "execution_count": 12,
   "metadata": {},
   "outputs": [],
   "source": [
    "# and now we will prepare data for scikit-learn confusion matrix and classification report\n",
    "Y_pred = model.predict_classes(X_test)\n",
    "Y_pred = keras.utils.to_categorical(Y_pred, num_classes=len(LANGUAGES_DICT))\n",
    "LABELS =  list(LANGUAGES_DICT.keys())"
   ]
  },
  {
   "cell_type": "code",
   "execution_count": 13,
   "metadata": {},
   "outputs": [
    {
     "data": {
      "image/png": "[encoded data removed]",
      "text/plain": [
       "<Figure size 720x504 with 2 Axes>"
      ]
     },
     "metadata": {},
     "output_type": "display_data"
    }
   ],
   "source": [
    "# Plot confusion matrix \n",
    "from sklearn.metrics import confusion_matrix\n",
    "from support import print_confusion_matrix\n",
    "\n",
    "cnf_matrix = confusion_matrix(np.argmax(Y_pred,axis=1), np.argmax(Y_test,axis=1))\n",
    "_ = print_confusion_matrix(cnf_matrix, LABELS)"
   ]
  },
  {
   "cell_type": "code",
   "execution_count": 14,
   "metadata": {},
   "outputs": [
    {
     "name": "stdout",
     "output_type": "stream",
     "text": [
      "             precision    recall  f1-score   support\n",
      "\n",
      "         en       0.97      0.98      0.97     49782\n",
      "         fr       0.98      0.98      0.98     50022\n",
      "         es       0.98      0.97      0.97     49804\n",
      "         it       0.97      0.97      0.97     49997\n",
      "         de       0.99      0.99      0.99     50239\n",
      "         sk       0.96      0.99      0.98     50033\n",
      "         cs       0.99      0.96      0.98     50123\n",
      "\n",
      "avg / total       0.98      0.98      0.98    350000\n",
      "\n"
     ]
    }
   ],
   "source": [
    "# Classification Report\n",
    "print(classification_report(Y_test, Y_pred, target_names=LABELS))"
   ]
  },
  {
   "cell_type": "markdown",
   "metadata": {},
   "source": [
    "## It's your turn\n",
    "\n",
    "Test out the model you just trained. Run the code Cell below and type your text in the widget, Have fun!🎉\n",
    "\n",
    "Here are some inspirations:\n",
    "\n",
    "##### EN - Frank Baum, The Wonderful Wizard of Oz, Project Gutenberg, public domain\n",
    "You are welcome, most noble Sorceress, to the land of the Munchkins. We are so grateful to you for having killed the Wicked Witch of the East, and for setting our people free from bondage.\n",
    "\n",
    "##### DE - Johann Wolfgang von Goethe, Faust: Der Tragödie erster Teil, Project Gutenberg, public domain\n",
    "Habe nun, ach! Philosophie, Juristerei und Medizin, Und leider auch Theologie  Durchaus studiert, mit heißem Bemühn. Da steh ich nun, ich armer Tor! Und bin so klug als wie zuvor.\n",
    "\n",
    "##### FR - Pierre Benoît, L'Atlantide, \n",
    "Voilà cinq mois que j'en faisais fonction, et, ma foi, je supportais bien cette responsabilité et goûtais fort cette indépendance. Je puis même affirmer, sans me flatter.\n",
    "\n",
    "##### IT - Alberto Boccardi, Il peccato di Loreta, Project Gutenberg, public domain\n",
    "Giovanni Sant'Angelo, che negli anni passati a Padova in mezzo alla baraonda tanto gioconda degli studenti, aveva appreso ad amare con foga di giovane qualche alto ideale, tornato in famiglia dovette fare uno sforzo.\n",
    "\n",
    "##### ES - Fernando Callejo Ferrer, Música y Músicos Portorriqueños, Project Gutenberg, public domain\n",
    "Dedicada esta sección a la reseña de los compositores nativos y obras que han producido, con ligeros comentarios propios a cada uno, parécenos oportuno dar ligeras noticias sobre el origen de la composición.\n",
    "\n",
    "##### CS - František Omelka, Blesky nad Beskydami, Project Gutenberg, public domain\n",
    "A Slávek, jsa povzbuzen, se ptal a otec odpovídal. Přestože byl prostým venkovským listonošem, nepřivedla jej žádná synova otázka do rozpaků. Od mládí se zajímal o dějepis a literaturu.\n",
    "\n",
    "##### SK - Janko Matúška, Nad Tatrou sa blýska,  national anthem of Slovakia, https://en.wikipedia.org/wiki/Nad_Tatrou_sa_blýska\n",
    "Nad Tatrou sa blýska Hromy divo bijú Zastavme ich, bratia Veď sa ony stratia Slováci ožijú To Slovensko naše Posiaľ tvrdo spalo Ale blesky hromu Vzbudzujú ho k tomu Aby sa prebralo.\n",
    "\n",
    "Can you do better? Play around with the model hyperparameters!"
   ]
  },
  {
   "cell_type": "code",
   "execution_count": 15,
   "metadata": {},
   "outputs": [
    {
     "data": {
      "application/vnd.jupyter.widget-view+json": {
       "model_id": "6d2984c6886b4904b1e310c185f6bd94",
       "version_major": 2,
       "version_minor": 0
      },
      "text/plain": [
       "interactive(children=(Textarea(value='', description='TEXT', placeholder='Type the text to identify here'), Bu…"
      ]
     },
     "metadata": {},
     "output_type": "display_data"
    }
   ],
   "source": [
    "# and now we will have some fun. Seeing is believing!\n",
    "# We will take some texts and try to predict the text's language using our trained neural network.\n",
    "\n",
    "from ipywidgets import interact_manual\n",
    "from ipywidgets import widgets\n",
    "from support import clean_text\n",
    "\n",
    "\n",
    "def get_prediction(TEXT):\n",
    "    if len(TEXT) < MAX_LEN:\n",
    "        print(\"Text has to be at least {} chars long, but it is {}/{}\".format(MAX_LEN, len(TEXT), MAX_LEN))\n",
    "        return(-1)\n",
    "    # Data cleaning\n",
    "    cleaned_text = clean_text(TEXT)\n",
    "    \n",
    "    # Get the MAX_LEN char\n",
    "    input_row = get_input_row(cleaned_text, 0, MAX_LEN, alphabet)\n",
    "    \n",
    "    # Data preprocessing (Standardization)\n",
    "    test_array = standard_scaler.transform([input_row])\n",
    "    \n",
    "    raw_score = model.predict(test_array)\n",
    "    pred_idx= np.argmax(raw_score, axis=1)[0]\n",
    "    score = raw_score[0][pred_idx]*100\n",
    "    \n",
    "    # Prediction\n",
    "    prediction = LABELS[model.predict_classes(test_array)[0]]\n",
    "    print('TEXT:', TEXT, '\\nPREDICTION:', prediction.upper(), '\\nSCORE:', score)\n",
    "\n",
    "interact_manual(get_prediction, TEXT=widgets.Textarea(placeholder='Type the text to identify here'));"
   ]
  },
  {
   "cell_type": "markdown",
   "metadata": {},
   "source": [
    "## Save your model"
   ]
  },
  {
   "cell_type": "code",
   "execution_count": 22,
   "metadata": {},
   "outputs": [],
   "source": [
    "# Saving Model Weight\n",
    "model.save_weights('models/lang_identification_weights.h5')"
   ]
  },
  {
   "cell_type": "markdown",
   "metadata": {},
   "source": [
    "##### That's all folks - don't forget to shutdown your workspace once you're done 🙂"
   ]
  }
 ],
 "metadata": {
  "kernelspec": {
   "display_name": "Python 3",
   "language": "python",
   "name": "python3"
  },
  "language_info": {
   "codemirror_mode": {
    "name": "ipython",
    "version": 3
   },
   "file_extension": ".py",
   "mimetype": "text/x-python",
   "name": "python",
   "nbconvert_exporter": "python",
   "pygments_lexer": "ipython3",
   "version": "3.6.1"
  }
 },
 "nbformat": 4,
 "nbformat_minor": 2
}
